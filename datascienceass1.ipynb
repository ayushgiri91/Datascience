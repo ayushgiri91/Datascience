{
 "cells": [
  {
   "cell_type": "code",
   "execution_count": 1,
   "id": "97f42595",
   "metadata": {},
   "outputs": [],
   "source": [
    "import pandas as pd"
   ]
  },
  {
   "cell_type": "code",
   "execution_count": 2,
   "id": "8a0f0c49",
   "metadata": {},
   "outputs": [],
   "source": [
    "data1=pd.read_csv(\"Travel.csv\")"
   ]
  },
  {
   "cell_type": "code",
   "execution_count": 3,
   "id": "addcbe16",
   "metadata": {},
   "outputs": [
    {
     "data": {
      "text/html": [
       "<div>\n",
       "<style scoped>\n",
       "    .dataframe tbody tr th:only-of-type {\n",
       "        vertical-align: middle;\n",
       "    }\n",
       "\n",
       "    .dataframe tbody tr th {\n",
       "        vertical-align: top;\n",
       "    }\n",
       "\n",
       "    .dataframe thead th {\n",
       "        text-align: right;\n",
       "    }\n",
       "</style>\n",
       "<table border=\"1\" class=\"dataframe\">\n",
       "  <thead>\n",
       "    <tr style=\"text-align: right;\">\n",
       "      <th></th>\n",
       "      <th>CustomerID</th>\n",
       "      <th>ProdTaken</th>\n",
       "      <th>Age</th>\n",
       "      <th>TypeofContact</th>\n",
       "      <th>CityTier</th>\n",
       "      <th>DurationOfPitch</th>\n",
       "      <th>Occupation</th>\n",
       "      <th>Gender</th>\n",
       "      <th>NumberOfPersonVisiting</th>\n",
       "      <th>NumberOfFollowups</th>\n",
       "      <th>ProductPitched</th>\n",
       "      <th>PreferredPropertyStar</th>\n",
       "      <th>MaritalStatus</th>\n",
       "      <th>NumberOfTrips</th>\n",
       "      <th>Passport</th>\n",
       "      <th>PitchSatisfactionScore</th>\n",
       "      <th>OwnCar</th>\n",
       "      <th>NumberOfChildrenVisiting</th>\n",
       "      <th>Designation</th>\n",
       "      <th>MonthlyIncome</th>\n",
       "    </tr>\n",
       "  </thead>\n",
       "  <tbody>\n",
       "    <tr>\n",
       "      <th>0</th>\n",
       "      <td>200000</td>\n",
       "      <td>1</td>\n",
       "      <td>41.0</td>\n",
       "      <td>Self Enquiry</td>\n",
       "      <td>3</td>\n",
       "      <td>6.0</td>\n",
       "      <td>Salaried</td>\n",
       "      <td>Female</td>\n",
       "      <td>3</td>\n",
       "      <td>3.0</td>\n",
       "      <td>Deluxe</td>\n",
       "      <td>3.0</td>\n",
       "      <td>Single</td>\n",
       "      <td>1.0</td>\n",
       "      <td>1</td>\n",
       "      <td>2</td>\n",
       "      <td>1</td>\n",
       "      <td>0.0</td>\n",
       "      <td>Manager</td>\n",
       "      <td>20993.0</td>\n",
       "    </tr>\n",
       "    <tr>\n",
       "      <th>1</th>\n",
       "      <td>200001</td>\n",
       "      <td>0</td>\n",
       "      <td>49.0</td>\n",
       "      <td>Company Invited</td>\n",
       "      <td>1</td>\n",
       "      <td>14.0</td>\n",
       "      <td>Salaried</td>\n",
       "      <td>Male</td>\n",
       "      <td>3</td>\n",
       "      <td>4.0</td>\n",
       "      <td>Deluxe</td>\n",
       "      <td>4.0</td>\n",
       "      <td>Divorced</td>\n",
       "      <td>2.0</td>\n",
       "      <td>0</td>\n",
       "      <td>3</td>\n",
       "      <td>1</td>\n",
       "      <td>2.0</td>\n",
       "      <td>Manager</td>\n",
       "      <td>20130.0</td>\n",
       "    </tr>\n",
       "    <tr>\n",
       "      <th>2</th>\n",
       "      <td>200002</td>\n",
       "      <td>1</td>\n",
       "      <td>37.0</td>\n",
       "      <td>Self Enquiry</td>\n",
       "      <td>1</td>\n",
       "      <td>8.0</td>\n",
       "      <td>Free Lancer</td>\n",
       "      <td>Male</td>\n",
       "      <td>3</td>\n",
       "      <td>4.0</td>\n",
       "      <td>Basic</td>\n",
       "      <td>3.0</td>\n",
       "      <td>Single</td>\n",
       "      <td>7.0</td>\n",
       "      <td>1</td>\n",
       "      <td>3</td>\n",
       "      <td>0</td>\n",
       "      <td>0.0</td>\n",
       "      <td>Executive</td>\n",
       "      <td>17090.0</td>\n",
       "    </tr>\n",
       "    <tr>\n",
       "      <th>3</th>\n",
       "      <td>200003</td>\n",
       "      <td>0</td>\n",
       "      <td>33.0</td>\n",
       "      <td>Company Invited</td>\n",
       "      <td>1</td>\n",
       "      <td>9.0</td>\n",
       "      <td>Salaried</td>\n",
       "      <td>Female</td>\n",
       "      <td>2</td>\n",
       "      <td>3.0</td>\n",
       "      <td>Basic</td>\n",
       "      <td>3.0</td>\n",
       "      <td>Divorced</td>\n",
       "      <td>2.0</td>\n",
       "      <td>1</td>\n",
       "      <td>5</td>\n",
       "      <td>1</td>\n",
       "      <td>1.0</td>\n",
       "      <td>Executive</td>\n",
       "      <td>17909.0</td>\n",
       "    </tr>\n",
       "    <tr>\n",
       "      <th>4</th>\n",
       "      <td>200004</td>\n",
       "      <td>0</td>\n",
       "      <td>NaN</td>\n",
       "      <td>Self Enquiry</td>\n",
       "      <td>1</td>\n",
       "      <td>8.0</td>\n",
       "      <td>Small Business</td>\n",
       "      <td>Male</td>\n",
       "      <td>2</td>\n",
       "      <td>3.0</td>\n",
       "      <td>Basic</td>\n",
       "      <td>4.0</td>\n",
       "      <td>Divorced</td>\n",
       "      <td>1.0</td>\n",
       "      <td>0</td>\n",
       "      <td>5</td>\n",
       "      <td>1</td>\n",
       "      <td>0.0</td>\n",
       "      <td>Executive</td>\n",
       "      <td>18468.0</td>\n",
       "    </tr>\n",
       "    <tr>\n",
       "      <th>...</th>\n",
       "      <td>...</td>\n",
       "      <td>...</td>\n",
       "      <td>...</td>\n",
       "      <td>...</td>\n",
       "      <td>...</td>\n",
       "      <td>...</td>\n",
       "      <td>...</td>\n",
       "      <td>...</td>\n",
       "      <td>...</td>\n",
       "      <td>...</td>\n",
       "      <td>...</td>\n",
       "      <td>...</td>\n",
       "      <td>...</td>\n",
       "      <td>...</td>\n",
       "      <td>...</td>\n",
       "      <td>...</td>\n",
       "      <td>...</td>\n",
       "      <td>...</td>\n",
       "      <td>...</td>\n",
       "      <td>...</td>\n",
       "    </tr>\n",
       "    <tr>\n",
       "      <th>4883</th>\n",
       "      <td>204883</td>\n",
       "      <td>1</td>\n",
       "      <td>49.0</td>\n",
       "      <td>Self Enquiry</td>\n",
       "      <td>3</td>\n",
       "      <td>9.0</td>\n",
       "      <td>Small Business</td>\n",
       "      <td>Male</td>\n",
       "      <td>3</td>\n",
       "      <td>5.0</td>\n",
       "      <td>Deluxe</td>\n",
       "      <td>4.0</td>\n",
       "      <td>Unmarried</td>\n",
       "      <td>2.0</td>\n",
       "      <td>1</td>\n",
       "      <td>1</td>\n",
       "      <td>1</td>\n",
       "      <td>1.0</td>\n",
       "      <td>Manager</td>\n",
       "      <td>26576.0</td>\n",
       "    </tr>\n",
       "    <tr>\n",
       "      <th>4884</th>\n",
       "      <td>204884</td>\n",
       "      <td>1</td>\n",
       "      <td>28.0</td>\n",
       "      <td>Company Invited</td>\n",
       "      <td>1</td>\n",
       "      <td>31.0</td>\n",
       "      <td>Salaried</td>\n",
       "      <td>Male</td>\n",
       "      <td>4</td>\n",
       "      <td>5.0</td>\n",
       "      <td>Basic</td>\n",
       "      <td>3.0</td>\n",
       "      <td>Single</td>\n",
       "      <td>3.0</td>\n",
       "      <td>1</td>\n",
       "      <td>3</td>\n",
       "      <td>1</td>\n",
       "      <td>2.0</td>\n",
       "      <td>Executive</td>\n",
       "      <td>21212.0</td>\n",
       "    </tr>\n",
       "    <tr>\n",
       "      <th>4885</th>\n",
       "      <td>204885</td>\n",
       "      <td>1</td>\n",
       "      <td>52.0</td>\n",
       "      <td>Self Enquiry</td>\n",
       "      <td>3</td>\n",
       "      <td>17.0</td>\n",
       "      <td>Salaried</td>\n",
       "      <td>Female</td>\n",
       "      <td>4</td>\n",
       "      <td>4.0</td>\n",
       "      <td>Standard</td>\n",
       "      <td>4.0</td>\n",
       "      <td>Married</td>\n",
       "      <td>7.0</td>\n",
       "      <td>0</td>\n",
       "      <td>1</td>\n",
       "      <td>1</td>\n",
       "      <td>3.0</td>\n",
       "      <td>Senior Manager</td>\n",
       "      <td>31820.0</td>\n",
       "    </tr>\n",
       "    <tr>\n",
       "      <th>4886</th>\n",
       "      <td>204886</td>\n",
       "      <td>1</td>\n",
       "      <td>19.0</td>\n",
       "      <td>Self Enquiry</td>\n",
       "      <td>3</td>\n",
       "      <td>16.0</td>\n",
       "      <td>Small Business</td>\n",
       "      <td>Male</td>\n",
       "      <td>3</td>\n",
       "      <td>4.0</td>\n",
       "      <td>Basic</td>\n",
       "      <td>3.0</td>\n",
       "      <td>Single</td>\n",
       "      <td>3.0</td>\n",
       "      <td>0</td>\n",
       "      <td>5</td>\n",
       "      <td>0</td>\n",
       "      <td>2.0</td>\n",
       "      <td>Executive</td>\n",
       "      <td>20289.0</td>\n",
       "    </tr>\n",
       "    <tr>\n",
       "      <th>4887</th>\n",
       "      <td>204887</td>\n",
       "      <td>1</td>\n",
       "      <td>36.0</td>\n",
       "      <td>Self Enquiry</td>\n",
       "      <td>1</td>\n",
       "      <td>14.0</td>\n",
       "      <td>Salaried</td>\n",
       "      <td>Male</td>\n",
       "      <td>4</td>\n",
       "      <td>4.0</td>\n",
       "      <td>Basic</td>\n",
       "      <td>4.0</td>\n",
       "      <td>Unmarried</td>\n",
       "      <td>3.0</td>\n",
       "      <td>1</td>\n",
       "      <td>3</td>\n",
       "      <td>1</td>\n",
       "      <td>2.0</td>\n",
       "      <td>Executive</td>\n",
       "      <td>24041.0</td>\n",
       "    </tr>\n",
       "  </tbody>\n",
       "</table>\n",
       "<p>4888 rows × 20 columns</p>\n",
       "</div>"
      ],
      "text/plain": [
       "      CustomerID  ProdTaken   Age    TypeofContact  CityTier  DurationOfPitch  \\\n",
       "0         200000          1  41.0     Self Enquiry         3              6.0   \n",
       "1         200001          0  49.0  Company Invited         1             14.0   \n",
       "2         200002          1  37.0     Self Enquiry         1              8.0   \n",
       "3         200003          0  33.0  Company Invited         1              9.0   \n",
       "4         200004          0   NaN     Self Enquiry         1              8.0   \n",
       "...          ...        ...   ...              ...       ...              ...   \n",
       "4883      204883          1  49.0     Self Enquiry         3              9.0   \n",
       "4884      204884          1  28.0  Company Invited         1             31.0   \n",
       "4885      204885          1  52.0     Self Enquiry         3             17.0   \n",
       "4886      204886          1  19.0     Self Enquiry         3             16.0   \n",
       "4887      204887          1  36.0     Self Enquiry         1             14.0   \n",
       "\n",
       "          Occupation  Gender  NumberOfPersonVisiting  NumberOfFollowups  \\\n",
       "0           Salaried  Female                       3                3.0   \n",
       "1           Salaried    Male                       3                4.0   \n",
       "2        Free Lancer    Male                       3                4.0   \n",
       "3           Salaried  Female                       2                3.0   \n",
       "4     Small Business    Male                       2                3.0   \n",
       "...              ...     ...                     ...                ...   \n",
       "4883  Small Business    Male                       3                5.0   \n",
       "4884        Salaried    Male                       4                5.0   \n",
       "4885        Salaried  Female                       4                4.0   \n",
       "4886  Small Business    Male                       3                4.0   \n",
       "4887        Salaried    Male                       4                4.0   \n",
       "\n",
       "     ProductPitched  PreferredPropertyStar MaritalStatus  NumberOfTrips  \\\n",
       "0            Deluxe                    3.0        Single            1.0   \n",
       "1            Deluxe                    4.0      Divorced            2.0   \n",
       "2             Basic                    3.0        Single            7.0   \n",
       "3             Basic                    3.0      Divorced            2.0   \n",
       "4             Basic                    4.0      Divorced            1.0   \n",
       "...             ...                    ...           ...            ...   \n",
       "4883         Deluxe                    4.0     Unmarried            2.0   \n",
       "4884          Basic                    3.0        Single            3.0   \n",
       "4885       Standard                    4.0       Married            7.0   \n",
       "4886          Basic                    3.0        Single            3.0   \n",
       "4887          Basic                    4.0     Unmarried            3.0   \n",
       "\n",
       "      Passport  PitchSatisfactionScore  OwnCar  NumberOfChildrenVisiting  \\\n",
       "0            1                       2       1                       0.0   \n",
       "1            0                       3       1                       2.0   \n",
       "2            1                       3       0                       0.0   \n",
       "3            1                       5       1                       1.0   \n",
       "4            0                       5       1                       0.0   \n",
       "...        ...                     ...     ...                       ...   \n",
       "4883         1                       1       1                       1.0   \n",
       "4884         1                       3       1                       2.0   \n",
       "4885         0                       1       1                       3.0   \n",
       "4886         0                       5       0                       2.0   \n",
       "4887         1                       3       1                       2.0   \n",
       "\n",
       "         Designation  MonthlyIncome  \n",
       "0            Manager        20993.0  \n",
       "1            Manager        20130.0  \n",
       "2          Executive        17090.0  \n",
       "3          Executive        17909.0  \n",
       "4          Executive        18468.0  \n",
       "...              ...            ...  \n",
       "4883         Manager        26576.0  \n",
       "4884       Executive        21212.0  \n",
       "4885  Senior Manager        31820.0  \n",
       "4886       Executive        20289.0  \n",
       "4887       Executive        24041.0  \n",
       "\n",
       "[4888 rows x 20 columns]"
      ]
     },
     "execution_count": 3,
     "metadata": {},
     "output_type": "execute_result"
    }
   ],
   "source": [
    "data1"
   ]
  },
  {
   "cell_type": "code",
   "execution_count": 4,
   "id": "adbbef7a",
   "metadata": {},
   "outputs": [],
   "source": [
    "# What is the distribution of customerages, and how does age relate to product purchase \n",
    "# (ProdTaken)?  "
   ]
  },
  {
   "cell_type": "code",
   "execution_count": 5,
   "id": "967b6710",
   "metadata": {},
   "outputs": [
    {
     "data": {
      "text/plain": [
       "count    4662.000000\n",
       "mean       37.622265\n",
       "std         9.316387\n",
       "min        18.000000\n",
       "25%        31.000000\n",
       "50%        36.000000\n",
       "75%        44.000000\n",
       "max        61.000000\n",
       "Name: Age, dtype: float64"
      ]
     },
     "execution_count": 5,
     "metadata": {},
     "output_type": "execute_result"
    }
   ],
   "source": [
    "data1[\"Age\"].describe()"
   ]
  },
  {
   "cell_type": "code",
   "execution_count": 6,
   "id": "0582394e",
   "metadata": {},
   "outputs": [],
   "source": [
    "data2=data1.groupby(\"Age\")[\"ProdTaken\"].sum()"
   ]
  },
  {
   "cell_type": "code",
   "execution_count": 7,
   "id": "c3956f37",
   "metadata": {
    "scrolled": true
   },
   "outputs": [
    {
     "data": {
      "text/plain": [
       "Age\n",
       "18.0     8\n",
       "19.0    21\n",
       "20.0    25\n",
       "21.0    23\n",
       "22.0    15\n",
       "23.0    13\n",
       "24.0    18\n",
       "25.0    20\n",
       "26.0    37\n",
       "27.0    30\n",
       "28.0    26\n",
       "29.0    57\n",
       "30.0    48\n",
       "31.0    41\n",
       "32.0    40\n",
       "33.0    40\n",
       "34.0    44\n",
       "35.0    34\n",
       "36.0    27\n",
       "37.0    24\n",
       "38.0    15\n",
       "39.0    14\n",
       "40.0    23\n",
       "41.0    24\n",
       "42.0    20\n",
       "43.0    10\n",
       "44.0    17\n",
       "45.0    18\n",
       "46.0    11\n",
       "47.0    12\n",
       "48.0    11\n",
       "49.0     9\n",
       "50.0    12\n",
       "51.0    17\n",
       "52.0    14\n",
       "53.0     8\n",
       "54.0     2\n",
       "55.0     7\n",
       "56.0    12\n",
       "57.0     5\n",
       "58.0    11\n",
       "59.0    12\n",
       "60.0     1\n",
       "61.0     0\n",
       "Name: ProdTaken, dtype: int64"
      ]
     },
     "execution_count": 7,
     "metadata": {},
     "output_type": "execute_result"
    }
   ],
   "source": [
    "data2"
   ]
  },
  {
   "cell_type": "code",
   "execution_count": 8,
   "id": "9d8747fc",
   "metadata": {},
   "outputs": [
    {
     "data": {
      "text/plain": [
       "<Axes: xlabel='Age'>"
      ]
     },
     "execution_count": 8,
     "metadata": {},
     "output_type": "execute_result"
    },
    {
     "data": {
      "image/png": "[encoded data removed]",
      "text/plain": [
       "<Figure size 640x480 with 1 Axes>"
      ]
     },
     "metadata": {},
     "output_type": "display_data"
    }
   ],
   "source": [
    "data2.plot(kind='bar')"
   ]
  },
  {
   "cell_type": "code",
   "execution_count": 9,
   "id": "76e2fe73",
   "metadata": {},
   "outputs": [],
   "source": [
    "# How does the type of contact(type of contact)influence the likelihood of purchasing a \n",
    "# travel product?  "
   ]
  },
  {
   "cell_type": "code",
   "execution_count": 10,
   "id": "b973ebeb",
   "metadata": {},
   "outputs": [],
   "source": [
    "data4=data1.groupby('TypeofContact')['NumberOfTrips'].sum()"
   ]
  },
  {
   "cell_type": "code",
   "execution_count": 11,
   "id": "3d620706",
   "metadata": {},
   "outputs": [
    {
     "data": {
      "text/plain": [
       "TypeofContact\n",
       "Company Invited     4425.0\n",
       "Self Enquiry       10869.0\n",
       "Name: NumberOfTrips, dtype: float64"
      ]
     },
     "execution_count": 11,
     "metadata": {},
     "output_type": "execute_result"
    }
   ],
   "source": [
    "data4"
   ]
  },
  {
   "cell_type": "code",
   "execution_count": 12,
   "id": "d5773b3b",
   "metadata": {},
   "outputs": [
    {
     "data": {
      "text/plain": [
       "<Axes: ylabel='NumberOfTrips'>"
      ]
     },
     "execution_count": 12,
     "metadata": {},
     "output_type": "execute_result"
    },
    {
     "data": {
      "image/png": "[encoded data removed]",
      "text/plain": [
       "<Figure size 640x480 with 1 Axes>"
      ]
     },
     "metadata": {},
     "output_type": "display_data"
    }
   ],
   "source": [
    "data4.plot(kind='pie')"
   ]
  },
  {
   "cell_type": "code",
   "execution_count": 13,
   "id": "c655c5fc",
   "metadata": {},
   "outputs": [],
   "source": [
    "# Is there a correlation between the city tier(citytier)and monthly income (monthly \n",
    "# income) of customers? "
   ]
  },
  {
   "cell_type": "code",
   "execution_count": 54,
   "id": "5cd3c5a0",
   "metadata": {},
   "outputs": [],
   "source": [
    "correlation = data1[\"CityTier\"].corr(data1[\"MonthlyIncome\"])"
   ]
  },
  {
   "cell_type": "code",
   "execution_count": 55,
   "id": "709b9773",
   "metadata": {},
   "outputs": [
    {
     "data": {
      "text/plain": [
       "0.05181691698577299"
      ]
     },
     "execution_count": 55,
     "metadata": {},
     "output_type": "execute_result"
    }
   ],
   "source": [
    "correlation"
   ]
  },
  {
   "cell_type": "code",
   "execution_count": null,
   "id": "66db493d",
   "metadata": {},
   "outputs": [],
   "source": [
    "\n",
    "\n",
    "# What is the average duration of a pitch (duration of pitch)for customers who \n",
    "# purchased a product versus those who did not?"
   ]
  },
  {
   "cell_type": "code",
   "execution_count": 15,
   "id": "0197f6e9",
   "metadata": {},
   "outputs": [],
   "source": [
    "data5=data1.groupby('ProdTaken')['DurationOfPitch'].mean()"
   ]
  },
  {
   "cell_type": "code",
   "execution_count": 16,
   "id": "ef2a8cc2",
   "metadata": {},
   "outputs": [
    {
     "data": {
      "text/plain": [
       "ProdTaken\n",
       "0    15.169325\n",
       "1    16.873143\n",
       "Name: DurationOfPitch, dtype: float64"
      ]
     },
     "execution_count": 16,
     "metadata": {},
     "output_type": "execute_result"
    }
   ],
   "source": [
    "data5"
   ]
  },
  {
   "cell_type": "code",
   "execution_count": 17,
   "id": "23408188",
   "metadata": {},
   "outputs": [],
   "source": [
    "# How do occupation types(occupation)distribute among customers,and is there an \n",
    "# occupation type that is more likely to purchase a travel product? "
   ]
  },
  {
   "cell_type": "code",
   "execution_count": 18,
   "id": "b9732f0c",
   "metadata": {},
   "outputs": [],
   "source": [
    "data6=data1.groupby('Occupation')['NumberOfTrips'].sum()"
   ]
  },
  {
   "cell_type": "code",
   "execution_count": 19,
   "id": "d60df293",
   "metadata": {},
   "outputs": [
    {
     "data": {
      "text/plain": [
       "Occupation\n",
       "Free Lancer         15.0\n",
       "Large Business    1493.0\n",
       "Salaried          7402.0\n",
       "Small Business    6457.0\n",
       "Name: NumberOfTrips, dtype: float64"
      ]
     },
     "execution_count": 19,
     "metadata": {},
     "output_type": "execute_result"
    }
   ],
   "source": [
    "data6"
   ]
  },
  {
   "cell_type": "code",
   "execution_count": 20,
   "id": "4d6371e2",
   "metadata": {},
   "outputs": [
    {
     "data": {
      "text/plain": [
       "<Axes: xlabel='Occupation'>"
      ]
     },
     "execution_count": 20,
     "metadata": {},
     "output_type": "execute_result"
    },
    {
     "data": {
      "image/png": "[encoded data removed]",
      "text/plain": [
       "<Figure size 640x480 with 1 Axes>"
      ]
     },
     "metadata": {},
     "output_type": "display_data"
    }
   ],
   "source": [
    "data6.plot(kind='bar')"
   ]
  },
  {
   "cell_type": "code",
   "execution_count": 21,
   "id": "7db0a0d5",
   "metadata": {},
   "outputs": [],
   "source": [
    "# Are there any gender-based preferences for the type of product pitched \n",
    "# (ProductPitched)? "
   ]
  },
  {
   "cell_type": "code",
   "execution_count": 22,
   "id": "7659db92",
   "metadata": {},
   "outputs": [],
   "source": [
    "preference=data1.groupby('Gender')['ProductPitched'].value_counts()"
   ]
  },
  {
   "cell_type": "code",
   "execution_count": 23,
   "id": "47df995a",
   "metadata": {},
   "outputs": [
    {
     "data": {
      "text/plain": [
       "Gender   ProductPitched\n",
       "Fe Male  Deluxe              83\n",
       "         Standard            63\n",
       "         Super Deluxe         5\n",
       "         Basic                4\n",
       "Female   Basic              676\n",
       "         Deluxe             641\n",
       "         Standard           263\n",
       "         Super Deluxe       155\n",
       "         King                82\n",
       "Male     Basic             1162\n",
       "         Deluxe            1008\n",
       "         Standard           416\n",
       "         Super Deluxe       182\n",
       "         King               148\n",
       "Name: count, dtype: int64"
      ]
     },
     "execution_count": 23,
     "metadata": {},
     "output_type": "execute_result"
    }
   ],
   "source": [
    "preference"
   ]
  },
  {
   "cell_type": "code",
   "execution_count": 24,
   "id": "a0639514",
   "metadata": {},
   "outputs": [],
   "source": [
    "# What is the relationship between the number of trips(number of trips)taken by a \n",
    "# customer and their likelihood to purchase a new travel product? "
   ]
  },
  {
   "cell_type": "code",
   "execution_count": 25,
   "id": "b7751291",
   "metadata": {},
   "outputs": [],
   "source": [
    "# Does having a passport(passport)correlate with a higher number of trips taken or a \n",
    "# higher likelihood of purchasing a travel product? "
   ]
  },
  {
   "cell_type": "code",
   "execution_count": 26,
   "id": "6fe82ab5",
   "metadata": {},
   "outputs": [],
   "source": [
    "data7=data1.groupby('Passport')['NumberOfTrips'].sum()"
   ]
  },
  {
   "cell_type": "code",
   "execution_count": 27,
   "id": "af040784",
   "metadata": {},
   "outputs": [
    {
     "data": {
      "text/plain": [
       "Passport\n",
       "0    10836.0\n",
       "1     4531.0\n",
       "Name: NumberOfTrips, dtype: float64"
      ]
     },
     "execution_count": 27,
     "metadata": {},
     "output_type": "execute_result"
    }
   ],
   "source": [
    "data7"
   ]
  },
  {
   "cell_type": "code",
   "execution_count": 28,
   "id": "51d44936",
   "metadata": {},
   "outputs": [],
   "source": [
    "# How satisfied are customers with the pitch (pitch satisfaction score),and does this \n",
    "# satisfaction influence product purchase?  "
   ]
  },
  {
   "cell_type": "code",
   "execution_count": 29,
   "id": "8aebbcbd",
   "metadata": {},
   "outputs": [],
   "source": [
    "data8=data1.groupby('PitchSatisfactionScore')['ProdTaken'].sum()"
   ]
  },
  {
   "cell_type": "code",
   "execution_count": 30,
   "id": "144b9c00",
   "metadata": {},
   "outputs": [
    {
     "data": {
      "text/plain": [
       "PitchSatisfactionScore\n",
       "1    144\n",
       "2     88\n",
       "3    316\n",
       "4    162\n",
       "5    210\n",
       "Name: ProdTaken, dtype: int64"
      ]
     },
     "execution_count": 30,
     "metadata": {},
     "output_type": "execute_result"
    }
   ],
   "source": [
    "data8"
   ]
  },
  {
   "cell_type": "code",
   "execution_count": 31,
   "id": "4b88e1ae",
   "metadata": {},
   "outputs": [],
   "source": [
    "data9=data1.groupby('PitchSatisfactionScore')['ProdTaken'].value_counts()"
   ]
  },
  {
   "cell_type": "code",
   "execution_count": 32,
   "id": "8d194d26",
   "metadata": {},
   "outputs": [
    {
     "data": {
      "text/plain": [
       "PitchSatisfactionScore  ProdTaken\n",
       "1                       0             798\n",
       "                        1             144\n",
       "2                       0             498\n",
       "                        1              88\n",
       "3                       0            1162\n",
       "                        1             316\n",
       "4                       0             750\n",
       "                        1             162\n",
       "5                       0             760\n",
       "                        1             210\n",
       "Name: count, dtype: int64"
      ]
     },
     "execution_count": 32,
     "metadata": {},
     "output_type": "execute_result"
    }
   ],
   "source": [
    "data9"
   ]
  },
  {
   "cell_type": "code",
   "execution_count": 33,
   "id": "c36b48af",
   "metadata": {},
   "outputs": [],
   "source": [
    "# Among customers with children (number of children visiting), how does the number \n",
    "# of children impact travel product purchases?"
   ]
  },
  {
   "cell_type": "code",
   "execution_count": 34,
   "id": "6cf62bfe",
   "metadata": {},
   "outputs": [],
   "source": [
    "data10=data1.groupby('NumberOfChildrenVisiting')['ProdTaken'].value_counts()"
   ]
  },
  {
   "cell_type": "code",
   "execution_count": 35,
   "id": "c93da283",
   "metadata": {},
   "outputs": [
    {
     "data": {
      "text/plain": [
       "NumberOfChildrenVisiting  ProdTaken\n",
       "0.0                       0             880\n",
       "                          1             202\n",
       "1.0                       0            1688\n",
       "                          1             392\n",
       "2.0                       0            1082\n",
       "                          1             253\n",
       "3.0                       0             259\n",
       "                          1              66\n",
       "Name: count, dtype: int64"
      ]
     },
     "execution_count": 35,
     "metadata": {},
     "output_type": "execute_result"
    }
   ],
   "source": [
    "data10"
   ]
  },
  {
   "cell_type": "code",
   "execution_count": 36,
   "id": "549ffe77",
   "metadata": {},
   "outputs": [
    {
     "data": {
      "text/plain": [
       "<Axes: xlabel='NumberOfChildrenVisiting,ProdTaken'>"
      ]
     },
     "execution_count": 36,
     "metadata": {},
     "output_type": "execute_result"
    },
    {
     "data": {
      "image/png": "[encoded data removed]",
      "text/plain": [
       "<Figure size 640x480 with 1 Axes>"
      ]
     },
     "metadata": {},
     "output_type": "display_data"
    }
   ],
   "source": [
    "data10.plot(kind='bar')"
   ]
  },
  {
   "cell_type": "code",
   "execution_count": 37,
   "id": "f28bf238",
   "metadata": {},
   "outputs": [],
   "source": [
    "# Gender preferences for product types: how does gender influence the preference for \n",
    "# different types of travel products pitched (product pitched)?  "
   ]
  },
  {
   "cell_type": "code",
   "execution_count": 38,
   "id": "05fbb4e1",
   "metadata": {},
   "outputs": [],
   "source": [
    "data10=data1.groupby('Gender')['ProductPitched'].value_counts()"
   ]
  },
  {
   "cell_type": "code",
   "execution_count": 39,
   "id": "381fa2eb",
   "metadata": {},
   "outputs": [
    {
     "data": {
      "text/plain": [
       "Gender   ProductPitched\n",
       "Fe Male  Deluxe              83\n",
       "         Standard            63\n",
       "         Super Deluxe         5\n",
       "         Basic                4\n",
       "Female   Basic              676\n",
       "         Deluxe             641\n",
       "         Standard           263\n",
       "         Super Deluxe       155\n",
       "         King                82\n",
       "Male     Basic             1162\n",
       "         Deluxe            1008\n",
       "         Standard           416\n",
       "         Super Deluxe       182\n",
       "         King               148\n",
       "Name: count, dtype: int64"
      ]
     },
     "execution_count": 39,
     "metadata": {},
     "output_type": "execute_result"
    }
   ],
   "source": [
    "data10"
   ]
  },
  {
   "cell_type": "code",
   "execution_count": 40,
   "id": "2fce6893",
   "metadata": {},
   "outputs": [
    {
     "data": {
      "text/plain": [
       "<Axes: xlabel='Gender,ProductPitched'>"
      ]
     },
     "execution_count": 40,
     "metadata": {},
     "output_type": "execute_result"
    },
    {
     "data": {
      "image/png": "[encoded data removed]",
      "text/plain": [
       "<Figure size 640x480 with 1 Axes>"
      ]
     },
     "metadata": {},
     "output_type": "display_data"
    }
   ],
   "source": [
    "data10.plot(kind='bar')"
   ]
  },
  {
   "cell_type": "code",
   "execution_count": 41,
   "id": "9c91239d",
   "metadata": {},
   "outputs": [],
   "source": [
    "# Impact of marital status on travel preferences: does marital status affect the choice of \n",
    "# travel product, and if so, how do different marital statuses correlate with product "
   ]
  },
  {
   "cell_type": "code",
   "execution_count": 42,
   "id": "3251be0a",
   "metadata": {},
   "outputs": [],
   "source": [
    "data11 = data1.groupby(['ProdTaken','MaritalStatus'])['ProductPitched'].value_counts()"
   ]
  },
  {
   "cell_type": "code",
   "execution_count": 43,
   "id": "6b22fbe7",
   "metadata": {},
   "outputs": [
    {
     "data": {
      "text/plain": [
       "ProdTaken  MaritalStatus  ProductPitched\n",
       "0          Divorced       Deluxe            304\n",
       "                          Basic             272\n",
       "                          Standard          116\n",
       "                          Super Deluxe       88\n",
       "                          King               46\n",
       "           Married        Deluxe            784\n",
       "                          Basic             628\n",
       "                          Standard          324\n",
       "                          Super Deluxe      158\n",
       "                          King              120\n",
       "           Single         Basic             281\n",
       "                          Deluxe            176\n",
       "                          Super Deluxe       72\n",
       "                          King               44\n",
       "                          Standard           39\n",
       "           Unmarried      Deluxe            264\n",
       "                          Standard          139\n",
       "                          Basic             109\n",
       "                          Super Deluxe        4\n",
       "1          Divorced       Basic              60\n",
       "                          Deluxe             32\n",
       "                          Standard           26\n",
       "                          King                6\n",
       "           Married        Basic             188\n",
       "                          Deluxe             68\n",
       "                          Standard           56\n",
       "                          Super Deluxe        8\n",
       "                          King                6\n",
       "           Single         Basic             230\n",
       "                          Deluxe             45\n",
       "                          Standard           11\n",
       "                          Super Deluxe       10\n",
       "                          King                8\n",
       "           Unmarried      Basic              74\n",
       "                          Deluxe             59\n",
       "                          Standard           31\n",
       "                          Super Deluxe        2\n",
       "Name: count, dtype: int64"
      ]
     },
     "execution_count": 43,
     "metadata": {},
     "output_type": "execute_result"
    }
   ],
   "source": [
    "data11"
   ]
  },
  {
   "cell_type": "code",
   "execution_count": 44,
   "id": "9bd44922",
   "metadata": {},
   "outputs": [],
   "source": [
    "data11=data1.groupby('MaritalStatus')['ProdTaken'].sum()"
   ]
  },
  {
   "cell_type": "code",
   "execution_count": 45,
   "id": "efce57e4",
   "metadata": {},
   "outputs": [
    {
     "data": {
      "text/plain": [
       "MaritalStatus\n",
       "Divorced     124\n",
       "Married      326\n",
       "Single       304\n",
       "Unmarried    166\n",
       "Name: ProdTaken, dtype: int64"
      ]
     },
     "execution_count": 45,
     "metadata": {},
     "output_type": "execute_result"
    }
   ],
   "source": [
    "data11"
   ]
  },
  {
   "cell_type": "code",
   "execution_count": 46,
   "id": "142a68cc",
   "metadata": {},
   "outputs": [],
   "source": [
    "# Relationship between number of children and travel product interest: how does the \n",
    "# number of children visiting (number of children visiting) impact the likelihood of \n",
    "# purchasing a travel product?  "
   ]
  },
  {
   "cell_type": "code",
   "execution_count": null,
   "id": "0e52a9a5",
   "metadata": {},
   "outputs": [],
   "source": [
    "data12 = data.groupby(\"NumberOfChildrenVisiting\")[\"purchased_travel_product\"].mean() * 100"
   ]
  },
  {
   "cell_type": "code",
   "execution_count": 47,
   "id": "51febe39",
   "metadata": {},
   "outputs": [],
   "source": [
    "# Influence of owning a car on travel decisions: is there a correlation between owning a \n",
    "# car (own car) and the number of trips taken (number of trips) or the type of travel \n",
    "# product purchased?  "
   ]
  },
  {
   "cell_type": "code",
   "execution_count": 48,
   "id": "89471cf7",
   "metadata": {},
   "outputs": [],
   "source": [
    "data13=data1.groupby('OwnCar')['NumberOfTrips'].sum()"
   ]
  },
  {
   "cell_type": "code",
   "execution_count": 49,
   "id": "f3c2e899",
   "metadata": {},
   "outputs": [
    {
     "data": {
      "text/plain": [
       "OwnCar\n",
       "0    5915.0\n",
       "1    9452.0\n",
       "Name: NumberOfTrips, dtype: float64"
      ]
     },
     "execution_count": 49,
     "metadata": {},
     "output_type": "execute_result"
    }
   ],
   "source": [
    "data13"
   ]
  },
  {
   "cell_type": "code",
   "execution_count": 50,
   "id": "1ef93cd6",
   "metadata": {},
   "outputs": [],
   "source": [
    "# Income level and product choice: how does the monthly income (monthly income) of \n",
    "# customers influence their choice of travel products, and is there a preferred product \n",
    "# for different income levels?  "
   ]
  },
  {
   "cell_type": "code",
   "execution_count": null,
   "id": "5eb96c2b",
   "metadata": {},
   "outputs": [],
   "source": []
  }
 ],
 "metadata": {
  "kernelspec": {
   "display_name": "Python 3 (ipykernel)",
   "language": "python",
   "name": "python3"
  },
  "language_info": {
   "codemirror_mode": {
    "name": "ipython",
    "version": 3
   },
   "file_extension": ".py",
   "mimetype": "text/x-python",
   "name": "python",
   "nbconvert_exporter": "python",
   "pygments_lexer": "ipython3",
   "version": "3.11.5"
  }
 },
 "nbformat": 4,
 "nbformat_minor": 5
}
